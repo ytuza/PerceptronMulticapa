{
  "nbformat": 4,
  "nbformat_minor": 0,
  "metadata": {
    "colab": {
      "name": "MVSyPMC.ipynb",
      "provenance": []
    },
    "kernelspec": {
      "name": "python3",
      "display_name": "Python 3"
    }
  },
  "cells": [
    {
      "cell_type": "code",
      "metadata": {
        "id": "bFUxHjoRrjTk",
        "colab_type": "code",
        "colab": {}
      },
      "source": [
        "#Librerias para usar Google Drive\n",
        "!pip install -U -q PyDrive\n",
        "from pydrive.auth import GoogleAuth\n",
        "from pydrive.drive import GoogleDrive\n",
        "from google.colab import auth\n",
        "from oauth2client.client import GoogleCredentials"
      ],
      "execution_count": null,
      "outputs": []
    },
    {
      "cell_type": "code",
      "metadata": {
        "id": "bDReM7Gq0d9K",
        "colab_type": "code",
        "colab": {}
      },
      "source": [
        "# Authenticate and create the PyDrive client.\n",
        "auth.authenticate_user()\n",
        "gauth = GoogleAuth()\n",
        "gauth.credentials = GoogleCredentials.get_application_default()\n",
        "drive = GoogleDrive(gauth)"
      ],
      "execution_count": null,
      "outputs": []
    },
    {
      "cell_type": "code",
      "metadata": {
        "id": "L63lk38K1dWy",
        "colab_type": "code",
        "colab": {}
      },
      "source": [
        "import numpy as np\n",
        "import pandas as pd\n",
        "import matplotlib.pyplot as plt\n",
        "from math import sqrt\n",
        "from IPython.display import display, HTML"
      ],
      "execution_count": 2,
      "outputs": []
    },
    {
      "cell_type": "code",
      "metadata": {
        "id": "3voMS0FF1d6K",
        "colab_type": "code",
        "colab": {
          "base_uri": "https://localhost:8080/",
          "height": 51
        },
        "outputId": "2273b166-0f1e-438f-cca7-6ff060fd41b9"
      },
      "source": [
        "#Leer_Datos\n",
        "data_iris = pd.read_csv('/content/drive/My Drive/2020-1/Data TIA/iris2.csv',sep=',' ,header=0)\n",
        "data_ec = pd.read_csv('/content/drive/My Drive/2020-1/Data TIA/Enfermedad_Cardiaca.csv',sep='\\t' ,header=0)\n",
        "\n",
        "data_iris_v = data_iris.values\n",
        "data_ec_v = data_ec.values\n",
        "\n",
        "print(data_iris_v.shape)\n",
        "print(data_ec_v.shape)"
      ],
      "execution_count": 3,
      "outputs": [
        {
          "output_type": "stream",
          "text": [
            "(150, 5)\n",
            "(303, 14)\n"
          ],
          "name": "stdout"
        }
      ]
    },
    {
      "cell_type": "code",
      "metadata": {
        "id": "AYiGQQCsodYj",
        "colab_type": "code",
        "colab": {}
      },
      "source": [
        "def Sigmoidal(X):\n",
        "  z = 1/(1 + np.exp(-X))\n",
        "  return z\n",
        "\n",
        "def Funcion_Costo(salida, valor_r):\n",
        "  loss = np.square(salida - valor_r).sum()\n",
        "  loss = loss/(2*len(salida))\n",
        "  return loss\n",
        "\n",
        "def Normalizar_Datos( data ):\n",
        "  last = np.array(data[:,-1])\n",
        "  #print(last)\n",
        "  mean = np.mean(data,0)\n",
        "  stdd = np.std(data,0)\n",
        "  for i in range(0,data.shape[0]):\n",
        "    data[i] = np.true_divide((data[i] - mean), stdd)\n",
        "  data[:,-1] = last[:]\n",
        "  return data\n",
        "\n",
        "\n",
        "def Crear_k_folds(data, lc, k):\n",
        "  data = data.sort_values(lc).values\n",
        "  #print(data)\n",
        "  Normalizar_Datos(data)\n",
        "  #print(data)\n",
        "  r = np.where(np.diff(data[:,-1]))[0]+1\n",
        "  ceros, unos = np.split(data,r)\n",
        "\n",
        "  folds0 = np.array_split(ceros, k)\n",
        "  folds1 = np.array_split(unos, k)\n",
        "  \n",
        "  rpta = list()\n",
        "\n",
        "  for i in range(k):\n",
        "    conc = np.concatenate((folds0[i],folds1[i]))\n",
        "    np.random.shuffle(conc)\n",
        "    rpta.append(conc)\n",
        "\n",
        "  return rpta\n",
        "\n",
        "def Crear_k_folds2(data, lc, k):\n",
        "\n",
        "  data = data.sort_values(lc).values\n",
        "  Normalizar_Datos(data)\n",
        "  np.random.shuffle(data)\n",
        "  folds = np.array_split(data, k)\n",
        "\n",
        "  return folds\n",
        "\n",
        "def split_Tr_Te(folds, it , k):\n",
        "  tr = np.array([])\n",
        "  te = np.array([])\n",
        "  for i in range(k):\n",
        "    if i in it:\n",
        "      if len(te) == 0:\n",
        "        te = folds[i]\n",
        "      else:\n",
        "        te = np.concatenate((te,folds[i]))\n",
        "    else:\n",
        "      if len(tr) == 0:\n",
        "        tr = folds[i]\n",
        "      else:\n",
        "        tr = np.concatenate((tr,folds[i]))\n",
        "  return tr, te\n"
      ],
      "execution_count": 4,
      "outputs": []
    },
    {
      "cell_type": "code",
      "metadata": {
        "id": "lsbj9J1aM6KG",
        "colab_type": "code",
        "colab": {
          "base_uri": "https://localhost:8080/",
          "height": 68
        },
        "outputId": "c8c932f5-2969-44cf-83ee-8ab8f15c18c3"
      },
      "source": [
        "\n",
        "\n",
        "p1 = Perceptron(x_t,[2,4,3],1e-1)\n",
        "p1.crear_rpta()\n",
        "p1.print_w()\n",
        "\n",
        "#p1.forward()\n",
        "\n",
        "#p1.add_bias()\n",
        "#print(p1.w_v)\n",
        "#p1.backward(y_t)\n",
        "p1.train(1000, y_t)"
      ],
      "execution_count": null,
      "outputs": [
        {
          "output_type": "stream",
          "text": [
            "ooo 2\n",
            "(3, 4)\n",
            "(5, 3)\n"
          ],
          "name": "stdout"
        }
      ]
    },
    {
      "cell_type": "code",
      "metadata": {
        "id": "VTBHvp9IBQ_5",
        "colab_type": "code",
        "colab": {}
      },
      "source": [
        "class Perceptron:\n",
        "  def __init__(self, data, n_neuronas_v,alpha):\n",
        "    self.data = data\n",
        "    self.n_capas = len(n_neuronas_v)\n",
        "    self.n_neuronas_v = n_neuronas_v\n",
        "    self.alpha = alpha\n",
        "    self.z_v = [] #matrices z\n",
        "    self.w_v = [] #matrices w\n",
        "    self.rpta = [] #opciones de rpta\n",
        "    for i in range(self.n_capas-1):\n",
        "      self.w_v.append(np.random.randn(n_neuronas_v[i]+1, n_neuronas_v[i+1]))\n",
        "  \n",
        "  def crear_rpta(self):\n",
        "    self.rpta = np.eye(self.n_neuronas_v[-1])\n",
        "    #print(self.rpta)\n",
        "\n",
        "  def print_w(self):\n",
        "    print(\"oWo\",len(self.w_v))\n",
        "    for i in range(len(self.w_v)):\n",
        "      print(self.w_v[i].shape)\n",
        "\n",
        "  def print_z(self):\n",
        "    print(\"oZo\",len(self.z_v))\n",
        "    for i in range(len(self.z_v)):\n",
        "      print(self.z_v[i].shape)\n",
        "\n",
        "  def forward(self):\n",
        "    x = self.data\n",
        "    self.z_v = []\n",
        "    self.z_v.append(self.data)\n",
        "    for i in range(len(self.w_v)):\n",
        "      x = np.c_[ x, np.ones(len(x)) ] #bias\n",
        "      z = x.dot(self.w_v[i])\n",
        "      x = Sigmoidal(z)\n",
        "      self.z_v.append(x) \n",
        "      #print(\"SHAPE\")\n",
        "      #print(x.shape)\n",
        "    return x\n",
        "\n",
        "  def forward_t(self,x):\n",
        "    self.z_v = []\n",
        "    self.z_v.append(self.data)\n",
        "    for i in range(len(self.w_v)):\n",
        "      x = np.c_[ x, np.ones(len(x)) ] #bias\n",
        "      z = x.dot(self.w_v[i])\n",
        "      x = Sigmoidal(z)\n",
        "      self.z_v.append(x) \n",
        "    return x\n",
        "\n",
        "  def add_bias(self):\n",
        "    #print(self.z_v)\n",
        "    for i in range(len(self.z_v)-1):\n",
        "      self.z_v[i] = np.c_[ self.z_v[i], np.ones(len(self.z_v[i])) ] #bias\n",
        "    #print(self.z_v)\n",
        "\n",
        "  def backward(self, y):\n",
        "    #print(\"bk\")\n",
        "    #self.print_z()\n",
        "    wr_v=[]\n",
        "    r = -(y-self.z_v[-1])\n",
        "    r = r * self.z_v[-1] * (1-self.z_v[-1])\n",
        "    w1 = self.z_v[-2].T.dot(r)\n",
        "    wr_v.append(self.alpha * w1)\n",
        "    #self.w_v[-1] -= self.alpha * w1\n",
        "    \n",
        "    #print(\"r shape\",r.shape)\n",
        "    \n",
        "    for i in range(2, len(self.w_v)+1):\n",
        "      #print(\"dentro for\",i)\n",
        "      r = r.dot(self.w_v[-i+1].T) # r*w\n",
        "      r = r* self.z_v[-i] * (1-self.z_v[-i]) #a(1-a)\n",
        "      t = np.delete(r, -1, 1) # T Dm-1 \n",
        "      w_t = self.z_v[-i-1].T.dot(t) # *a\n",
        "      wr_v.append(self.alpha * w_t) # add list\n",
        "      r = t\n",
        "      #self.w_v[-i] -= self.alpha * w_t\n",
        "\n",
        "    #print(self.w_v)\n",
        "    for j in range(len(self.w_v)):\n",
        "      self.w_v[j] -= wr_v[-(j+1)]\n",
        "    #print(self.w_v)\n",
        "      \n",
        "\n",
        "  def train(self, n, y_t):\n",
        "    l_v = []\n",
        "    for i in range(n):\n",
        "      \n",
        "      self.forward()\n",
        "      p1.add_bias()\n",
        "      self.backward(y_t)\n",
        "      loss = Funcion_Costo(self.z_v[-1],y_t)\n",
        "      #print(i, loss)\n",
        "      l_v.append(loss)\n",
        "      #Accuracy(self, self.data, y_t)\n",
        "    \n",
        "    #print(self.z_v[-1])\n",
        "\n",
        "    \n",
        "\n",
        "    return l_v\n",
        "\n",
        "  def convR(self, y):\n",
        "    val = []\n",
        "    #print(self.rpta)\n",
        "    for i in range(len(y)):\n",
        "      val.append(self.rpta[int(y[i])])\n",
        "\n",
        "    return val\n",
        "\n"
      ],
      "execution_count": 52,
      "outputs": []
    },
    {
      "cell_type": "code",
      "metadata": {
        "id": "t-I2mkPrSMil",
        "colab_type": "code",
        "colab": {}
      },
      "source": [
        "x_t = np.random.randn(8, 2) \n",
        "y_t = np.random.randn(8, 3) "
      ],
      "execution_count": null,
      "outputs": []
    },
    {
      "cell_type": "code",
      "metadata": {
        "id": "11npO7ZYgVX0",
        "colab_type": "code",
        "colab": {}
      },
      "source": [
        "def gen_Tr_Te(te_s,tr_s):\n",
        "  te_y = te_s[:,-1:]\n",
        "  te_x = te_s[:,0:-1]\n",
        "  tr_y = tr_s[:,-1:]\n",
        "  tr_x = tr_s[:,0:-1]\n",
        "\n",
        "  \n",
        "  return tr_x, tr_y, te_x, te_y\n",
        "\n",
        "def Accuracy(perc, x_p , y_real):\n",
        "  c = 0\n",
        "  for i in range(len(y_real)):\n",
        "    t = x_p[i]\n",
        "    t = t.reshape(len(t),1)\n",
        "    r_perc = perc.forward_t(t.T).round()[0]\n",
        "\n",
        "    if(r_perc == y_real[i]).all():\n",
        "      c = c+1\n",
        "\n",
        "  i = len(y_real) \n",
        "  v = (c/i) * 100\n",
        "\n",
        "  return v\n"
      ],
      "execution_count": 67,
      "outputs": []
    },
    {
      "cell_type": "code",
      "metadata": {
        "id": "GnRzjnH_tYs6",
        "colab_type": "code",
        "colab": {}
      },
      "source": [
        "\n",
        "full_Card = Crear_k_folds(data_ec,'target',3)\n",
        "full_Iris = Crear_k_folds2(data_iris,'variety',3)"
      ],
      "execution_count": 7,
      "outputs": []
    },
    {
      "cell_type": "code",
      "metadata": {
        "id": "oEvagcdTTXJV",
        "colab_type": "code",
        "colab": {
          "base_uri": "https://localhost:8080/",
          "height": 80
        },
        "outputId": "4a20bad0-3d6a-4ff4-ada0-10ced6a9ffff"
      },
      "source": [
        "\n",
        "\n",
        "alphas = [0.1] #,0.2,0.3, 0.4, 0.5]\n",
        "its = [500] #, 1000, 1500, 2000, 2500]\n",
        "\n",
        "rpta = np.zeros([len(alphas),len(its)])\n",
        "\n",
        "costos_v = []\n",
        "for k in range(3):\n",
        "  tr_Card, te_Card = split_Tr_Te(full_Card,[k],3)\n",
        "  tr_Card_x, tr_Card_y, te_Card_x, te_Card_y = gen_Tr_Te(tr_Card,te_Card)\n",
        "\n",
        "  for a in  range(len(alphas)):\n",
        "    for itr in range(len(its)):\n",
        "      p1 = Perceptron(te_Card_x,[13,7, 5,2],alphas[a])\n",
        "      p1.crear_rpta()\n",
        "      y_v = p1.convR(te_Card_y)\n",
        "      l_v = p1.train(its[itr], y_v )\n",
        "\n",
        "      acc = Accuracy(p1, tr_Card_x, p1.convR(tr_Card_y))\n",
        "\n",
        "      rpta[a,itr] += acc\n",
        "\n",
        "      costos_v.append(l_v)\n",
        "\n",
        "rpta = rpta/3\n",
        "C_Diab = pd.DataFrame(data = rpta, index= alphas, columns = its)\n",
        "\n",
        "C_Diab"
      ],
      "execution_count": 76,
      "outputs": [
        {
          "output_type": "execute_result",
          "data": {
            "text/html": [
              "<div>\n",
              "<style scoped>\n",
              "    .dataframe tbody tr th:only-of-type {\n",
              "        vertical-align: middle;\n",
              "    }\n",
              "\n",
              "    .dataframe tbody tr th {\n",
              "        vertical-align: top;\n",
              "    }\n",
              "\n",
              "    .dataframe thead th {\n",
              "        text-align: right;\n",
              "    }\n",
              "</style>\n",
              "<table border=\"1\" class=\"dataframe\">\n",
              "  <thead>\n",
              "    <tr style=\"text-align: right;\">\n",
              "      <th></th>\n",
              "      <th>500</th>\n",
              "    </tr>\n",
              "  </thead>\n",
              "  <tbody>\n",
              "    <tr>\n",
              "      <th>0.1</th>\n",
              "      <td>79.207921</td>\n",
              "    </tr>\n",
              "  </tbody>\n",
              "</table>\n",
              "</div>"
            ],
            "text/plain": [
              "           500\n",
              "0.1  79.207921"
            ]
          },
          "metadata": {
            "tags": []
          },
          "execution_count": 76
        }
      ]
    },
    {
      "cell_type": "code",
      "metadata": {
        "id": "F_gftj5i7HXh",
        "colab_type": "code",
        "colab": {
          "base_uri": "https://localhost:8080/",
          "height": 296
        },
        "outputId": "e30121d2-b246-4c33-f13f-725c3f4f751a"
      },
      "source": [
        "plt.scatter(np.arange(200),costos_v[0], s=10,c='purple',alpha=0.2)\n",
        "plt.scatter(np.arange(200),costos_v[1], s=10,c='blue',alpha=0.2)\n",
        "plt.scatter(np.arange(200),costos_v[2], s=10,c='red',alpha=0.2)\n",
        "plt.xlabel('Iteraciones')\n",
        "plt.ylabel('Costo')"
      ],
      "execution_count": 28,
      "outputs": [
        {
          "output_type": "execute_result",
          "data": {
            "text/plain": [
              "Text(0, 0.5, 'Costo')"
            ]
          },
          "metadata": {
            "tags": []
          },
          "execution_count": 28
        },
        {
          "output_type": "display_data",
          "data": {
            "image/png": "[encoded data removed]",
            "text/plain": [
              "<Figure size 432x288 with 1 Axes>"
            ]
          },
          "metadata": {
            "tags": [],
            "needs_background": "light"
          }
        }
      ]
    },
    {
      "cell_type": "code",
      "metadata": {
        "id": "8FAAwwVU2KYa",
        "colab_type": "code",
        "colab": {
          "base_uri": "https://localhost:8080/",
          "height": 80
        },
        "outputId": "a497d5b5-a7fd-44ee-fa8f-f7578922921b"
      },
      "source": [
        "rpta = np.zeros([len(alphas),len(its)])\n",
        "\n",
        "for k in range(3):\n",
        "  tr_Iris, te_Iris = split_Tr_Te(full_Iris,[k],3)\n",
        "  tr_Iris_x, tr_Iris_y, te_Iris_x, te_Iris_y = gen_Tr_Te(te_Iris,te_Iris)\n",
        "\n",
        "  \n",
        "  for a in  range(len(alphas)):\n",
        "    for itr in range(len(its)):\n",
        "      p1 = Perceptron(te_Iris_x,[4,4,2,3,4,3],alphas[a])\n",
        "      p1.crear_rpta()\n",
        "      y_v = p1.convR(te_Iris_y)\n",
        "      l2 = p1.train(its[itr], y_v )\n",
        "\n",
        "      rpta[a,itr] += Accuracy(p1, tr_Iris_x, p1.convR(tr_Iris_y))\n",
        "\n",
        "rpta = rpta/3\n",
        "C_Diab = pd.DataFrame(data = rpta, index= alphas, columns = its)\n",
        "\n",
        "C_Diab"
      ],
      "execution_count": 77,
      "outputs": [
        {
          "output_type": "execute_result",
          "data": {
            "text/html": [
              "<div>\n",
              "<style scoped>\n",
              "    .dataframe tbody tr th:only-of-type {\n",
              "        vertical-align: middle;\n",
              "    }\n",
              "\n",
              "    .dataframe tbody tr th {\n",
              "        vertical-align: top;\n",
              "    }\n",
              "\n",
              "    .dataframe thead th {\n",
              "        text-align: right;\n",
              "    }\n",
              "</style>\n",
              "<table border=\"1\" class=\"dataframe\">\n",
              "  <thead>\n",
              "    <tr style=\"text-align: right;\">\n",
              "      <th></th>\n",
              "      <th>500</th>\n",
              "    </tr>\n",
              "  </thead>\n",
              "  <tbody>\n",
              "    <tr>\n",
              "      <th>0.1</th>\n",
              "      <td>98.666667</td>\n",
              "    </tr>\n",
              "  </tbody>\n",
              "</table>\n",
              "</div>"
            ],
            "text/plain": [
              "           500\n",
              "0.1  98.666667"
            ]
          },
          "metadata": {
            "tags": []
          },
          "execution_count": 77
        }
      ]
    },
    {
      "cell_type": "code",
      "metadata": {
        "id": "NeN_DL1G7uCk",
        "colab_type": "code",
        "colab": {
          "base_uri": "https://localhost:8080/",
          "height": 296
        },
        "outputId": "0c2b3fad-0422-40d0-e283-d6469ad171ec"
      },
      "source": [
        "plt.scatter(np.arange(1000),l2, s=15,c='purple',alpha=0.4)\n",
        "plt.xlabel('Iteraciones')\n",
        "plt.ylabel('Costo')"
      ],
      "execution_count": null,
      "outputs": [
        {
          "output_type": "execute_result",
          "data": {
            "text/plain": [
              "Text(0, 0.5, 'Costo')"
            ]
          },
          "metadata": {
            "tags": []
          },
          "execution_count": 104
        },
        {
          "output_type": "display_data",
          "data": {
            "image/png": "[encoded data removed]",
            "text/plain": [
              "<Figure size 432x288 with 1 Axes>"
            ]
          },
          "metadata": {
            "tags": [],
            "needs_background": "light"
          }
        }
      ]
    }
  ]
}
